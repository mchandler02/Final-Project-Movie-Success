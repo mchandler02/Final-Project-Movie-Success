{
 "cells": [
  {
   "cell_type": "markdown",
   "metadata": {},
   "source": [
    "# Extract"
   ]
  },
  {
   "cell_type": "code",
   "execution_count": null,
   "metadata": {},
   "outputs": [],
   "source": [
    "# dependencies\n",
    "import pandas as pd\n",
    "import numpy as np"
   ]
  },
  {
   "cell_type": "code",
   "execution_count": null,
   "metadata": {},
   "outputs": [],
   "source": [
    "# read file\n",
    "csv_file = \"movies_dataset.csv\"\n",
    "\n",
    "# store .csv into dataframe\n",
    "movies_df = pd.read_csv(csv_file)\n",
    "movies_df.head()"
   ]
  },
  {
   "cell_type": "markdown",
   "metadata": {},
   "source": [
    "# Transform"
   ]
  },
  {
   "cell_type": "code",
   "execution_count": null,
   "metadata": {},
   "outputs": [],
   "source": [
    "# drop duplicates of netflix_df, just in case.\n",
    "movies_df = movies_df.drop_duplicates()\n",
    "movies_df.head()"
   ]
  },
  {
   "cell_type": "code",
   "execution_count": null,
   "metadata": {},
   "outputs": [],
   "source": [
    "temp = movies_df.loc[movies_df[\"title\"] != \"THE KARATE KID\", :].reset_index()"
   ]
  },
  {
   "cell_type": "code",
   "execution_count": null,
   "metadata": {},
   "outputs": [],
   "source": [
    "# Create a filtered dataframe from specific columns\n",
    "movies_columns = [\"title\", \"year\", \"lifetime_gross\", \"ratingInteger\", \"ratingCount\", \"duration\", \"nrOfWins\", \"nrOfNominations\", \n",
    "                  \"nrOfPhotos\", \"nrOfNewsArticles\", \"nrOfUserReviews\", \"Action\", \"Adult\", \"Adventure\", \"Animation\",\n",
    "                  \"Biography\", \"Comedy\", \"Crime\", \"Documentary\", \"Drama\", \"Family\", \"Fantasy\", \"Horror\", \"Music\", \"Musical\", \"Mystery\",\n",
    "                  \"News\", \"RealityTV\", \"Romance\", \"SciFi\", \"Short\", \"Sport\", \"TalkShow\", \"Thriller\", \"War\", \"Western\"]\n",
    "movies_transformed = temp[movies_columns].copy()\n",
    "movies_transformed"
   ]
  },
  {
   "cell_type": "code",
   "execution_count": null,
   "metadata": {},
   "outputs": [],
   "source": [
    "# len(movies_transformed)\n",
    "movie_int = movies_transformed.ratingInteger"
   ]
  },
  {
   "cell_type": "code",
   "execution_count": null,
   "metadata": {},
   "outputs": [],
   "source": [
    "performance = {}\n",
    "for count in range(len(movies_transformed)):\n",
    "    try:\n",
    "        if (movie_int[count] > 7):\n",
    "            performance[count] = \"Success\"\n",
    "        else:\n",
    "            performance[count] = \"Fail\"\n",
    "    except KeyError:\n",
    "        print(\"error\")"
   ]
  },
  {
   "cell_type": "code",
   "execution_count": null,
   "metadata": {},
   "outputs": [],
   "source": [
    "np.unique(performance)"
   ]
  },
  {
   "cell_type": "code",
   "execution_count": null,
   "metadata": {},
   "outputs": [],
   "source": [
    "df2 = pd.DataFrame.from_dict(performance, orient = 'index')"
   ]
  },
  {
   "cell_type": "code",
   "execution_count": null,
   "metadata": {},
   "outputs": [],
   "source": [
    "movies_new = movies_transformed.combine_first(df2)"
   ]
  },
  {
   "cell_type": "code",
   "execution_count": null,
   "metadata": {},
   "outputs": [],
   "source": [
    "movies_new.columns"
   ]
  },
  {
   "cell_type": "code",
   "execution_count": null,
   "metadata": {},
   "outputs": [],
   "source": [
    " movies_new = movies_new.rename(columns={0: 'performance'})"
   ]
  },
  {
   "cell_type": "code",
   "execution_count": null,
   "metadata": {},
   "outputs": [],
   "source": [
    "np.unique(movies_new.performance)"
   ]
  },
  {
   "cell_type": "code",
   "execution_count": null,
   "metadata": {},
   "outputs": [],
   "source": [
    "movies_new.to_csv (\"clean_movies.csv\", index=False, header=True)"
   ]
  }
 ],
 "metadata": {
  "kernelspec": {
   "display_name": "Python 3",
   "language": "python",
   "name": "python3"
  },
  "language_info": {
   "codemirror_mode": {
    "name": "ipython",
    "version": 3
   },
   "file_extension": ".py",
   "mimetype": "text/x-python",
   "name": "python",
   "nbconvert_exporter": "python",
   "pygments_lexer": "ipython3",
   "version": "3.6.10"
  }
 },
 "nbformat": 4,
 "nbformat_minor": 4
}
